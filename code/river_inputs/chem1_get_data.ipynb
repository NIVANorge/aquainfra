{
 "cells": [
  {
   "cell_type": "code",
   "execution_count": 1,
   "id": "36a0c797-f26f-49f7-a800-90d9ebf7bd71",
   "metadata": {},
   "outputs": [],
   "source": [
    "import pandas as pd"
   ]
  },
  {
   "cell_type": "markdown",
   "id": "6a4c29c9-dd81-4f95-b56d-09645707339f",
   "metadata": {},
   "source": [
    "# Get chemistry data\n",
    "\n",
    "* Download chemistry data for the NIVA river monitoring stations (elveovervåkingsprogrammet):\n",
    "    * Locations: Drammenselva, Numedalslågen and Glomma.\n",
    "    * Get the data from NIVABasen (or similar internal NIVA system) initially. (Note: there is already chemistry data in this folder: aquainfra/data/river/water_chem/raw_vannmiljo, but it has data gaps for some reason. Lets delete this and start with NIVA data for now).\n",
    "    * Parameters of potential interest: SPM, DOC, TOC, SiO2, TP, TN, NOx-N, NH4-N, SRP, TDP, FDOM or CDOM (if measured?). To discuss with Helene which of these we ultimately want to focus on in AquaInfra\n",
    "    * Save raw data e.g. here: aquainfra/data/river/water_chem/raw_niva (need to make that last folder)\n",
    "    * Future extension: download chemistry data from Vannmiljø using the Vannmiljø API\n",
    "* Quick QC of the data.\n",
    "* Clean data if necessary and standardise column naming\n",
    "* Save as csvs in aquainfra/data/river/water_chem/cleaned (need to make that last folder)\n",
    "* Also save water chemistry site metadata to csv (e.g. station name, station id, lat, lon, any other info we have)"
   ]
  },
  {
   "cell_type": "code",
   "execution_count": null,
   "id": "ac57cd01-578f-4793-91d1-6eb3c98690e8",
   "metadata": {},
   "outputs": [],
   "source": []
  }
 ],
 "metadata": {
  "kernelspec": {
   "display_name": "Python 3 (ipykernel)",
   "language": "python",
   "name": "python3"
  },
  "language_info": {
   "codemirror_mode": {
    "name": "ipython",
    "version": 3
   },
   "file_extension": ".py",
   "mimetype": "text/x-python",
   "name": "python",
   "nbconvert_exporter": "python",
   "pygments_lexer": "ipython3",
   "version": "3.11.6"
  }
 },
 "nbformat": 4,
 "nbformat_minor": 5
}
