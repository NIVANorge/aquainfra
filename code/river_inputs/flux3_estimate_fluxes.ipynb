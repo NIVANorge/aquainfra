{
 "cells": [
  {
   "cell_type": "code",
   "execution_count": 2,
   "id": "4fa0b8d3-9347-4b54-a9bd-63b222e0cfbe",
   "metadata": {},
   "outputs": [],
   "source": [
    "import pandas as pd"
   ]
  },
  {
   "cell_type": "markdown",
   "id": "54403b40-ca1a-45ec-9f37-5d742649f783",
   "metadata": {},
   "source": [
    "# Estimate river fluxes\n",
    "\n",
    "Taking clean river discharge data (output of notebook q2_clean_discharge_data) and estimated daily concentrations of the variables of interest (from notebook flux2). Multiply these together (taking care of the units) to estimate daily, monthly and annual fluxes to the Oslofjord from the three big rivers.\n",
    "\n",
    "**Discuss with Helene how to save the results.** E.g. one csv per river of daily fluxes?\n",
    "\n",
    "Also plot daily, monthly and annual fluxes"
   ]
  },
  {
   "cell_type": "code",
   "execution_count": null,
   "id": "5785e3ea-75d0-4801-a325-5446e3d11293",
   "metadata": {},
   "outputs": [],
   "source": []
  }
 ],
 "metadata": {
  "kernelspec": {
   "display_name": "Python 3 (ipykernel)",
   "language": "python",
   "name": "python3"
  },
  "language_info": {
   "codemirror_mode": {
    "name": "ipython",
    "version": 3
   },
   "file_extension": ".py",
   "mimetype": "text/x-python",
   "name": "python",
   "nbconvert_exporter": "python",
   "pygments_lexer": "ipython3",
   "version": "3.11.6"
  }
 },
 "nbformat": 4,
 "nbformat_minor": 5
}
