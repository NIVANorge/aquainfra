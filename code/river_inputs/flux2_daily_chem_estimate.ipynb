{
 "cells": [
  {
   "cell_type": "code",
   "execution_count": 1,
   "id": "1bef73d1-3147-4b17-a5a1-14625e5b4ae5",
   "metadata": {},
   "outputs": [],
   "source": [
    "import pandas as pd"
   ]
  },
  {
   "cell_type": "markdown",
   "id": "ada13dd5-92a8-4cda-957e-e9d088a53b0b",
   "metadata": {},
   "source": [
    "# Estimate daily concentrations of key chemical species\n",
    "\n",
    "Aim: Derive daily time series of concentrations of the key variables of interest to the marine folk.\n",
    "\n",
    "Time period of interest to be determined. Storm Hans is of particular interest, but we may be interested all the way back to 1990. **Discuss with Helene**\n",
    "\n",
    "Do this using either:\n",
    "1) Regressions with sensor data data (for 2023 only and Glomma only) (derived in notebook flux1_regressions), if regressions were meaningful\n",
    "2) Regressions with discharge data (also derived in notebook flux1_regressions)\n",
    "3) Interpolation of grab sample data if data frequency appears high enough\n",
    "4) Filling using e.g. monthly median values if none of the above are appropriate\n",
    "\n",
    "Output of this notebook is then used to estimate fluxes to the fjord."
   ]
  },
  {
   "cell_type": "code",
   "execution_count": null,
   "id": "ba17da99-3fc8-48d3-9531-d7bce23657fa",
   "metadata": {},
   "outputs": [],
   "source": []
  }
 ],
 "metadata": {
  "kernelspec": {
   "display_name": "Python 3 (ipykernel)",
   "language": "python",
   "name": "python3"
  },
  "language_info": {
   "codemirror_mode": {
    "name": "ipython",
    "version": 3
   },
   "file_extension": ".py",
   "mimetype": "text/x-python",
   "name": "python",
   "nbconvert_exporter": "python",
   "pygments_lexer": "ipython3",
   "version": "3.11.6"
  }
 },
 "nbformat": 4,
 "nbformat_minor": 5
}
