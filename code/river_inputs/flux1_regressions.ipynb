{
 "cells": [
  {
   "cell_type": "code",
   "execution_count": 1,
   "id": "405bcfbf-7976-4033-bace-57c17e0a743b",
   "metadata": {},
   "outputs": [],
   "source": [
    "import pandas as pd"
   ]
  },
  {
   "cell_type": "markdown",
   "id": "a8c1a1d3-7fd9-43e1-981c-126e0e5b606d",
   "metadata": {},
   "source": [
    "# Explore regressions between grab sample chemistry data and continuous data\n",
    "\n",
    "Aims:\n",
    "* Read in cleaned water chemistry data (all 3 rivers), river discharge data (all 3 rivers) and NIVA sensor data (Glomma only)\n",
    "* For all three rivers, look for regressions between water chemistry data and river discharge. Potentially try seasonal regressions too (e.g. might expect different relationships in spring snow melt than during autumn)\n",
    "* For Glomma, look for regressions between water chemistry data and sensor data. Hope to find relationships between SPM and turbidity, between FDOM and DOC (and lab CDOM data if we have it). Might find some relationships between e.g. conductivity and NOx, so just a general screening is a good idea too.\n",
    "\n",
    "**N.B. Leah has done this a few times before in other places so has lots of code that can be reused.**"
   ]
  },
  {
   "cell_type": "code",
   "execution_count": null,
   "id": "bb2db45c-0f60-45cf-a9cf-9e85152841f7",
   "metadata": {},
   "outputs": [],
   "source": []
  }
 ],
 "metadata": {
  "kernelspec": {
   "display_name": "Python 3 (ipykernel)",
   "language": "python",
   "name": "python3"
  },
  "language_info": {
   "codemirror_mode": {
    "name": "ipython",
    "version": 3
   },
   "file_extension": ".py",
   "mimetype": "text/x-python",
   "name": "python",
   "nbconvert_exporter": "python",
   "pygments_lexer": "ipython3",
   "version": "3.11.6"
  }
 },
 "nbformat": 4,
 "nbformat_minor": 5
}
